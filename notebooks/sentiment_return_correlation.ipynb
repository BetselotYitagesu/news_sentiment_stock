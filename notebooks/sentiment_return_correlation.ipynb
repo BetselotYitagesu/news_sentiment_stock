{
 "cells": [
  {
   "cell_type": "code",
   "execution_count": 79,
   "id": "211df324",
   "metadata": {},
   "outputs": [],
   "source": [
    "# ------------------------\n",
    "# Correlation: Sentiment vs Stock Return\n",
    "# ------------------------\n",
    "\n",
    "# Imports\n",
    "import pandas as pd\n",
    "import numpy as np\n",
    "import matplotlib.pyplot as plt\n",
    "import seaborn as sns\n",
    "from scipy.stats import pearsonr, spearmanr, kendalltau"
   ]
  },
  {
   "cell_type": "code",
   "execution_count": 80,
   "id": "55e4f0b7",
   "metadata": {},
   "outputs": [
    {
     "data": {
      "text/plain": [
       "np.int64(0)"
      ]
     },
     "execution_count": 80,
     "metadata": {},
     "output_type": "execute_result"
    }
   ],
   "source": [
    "# ------------------------\n",
    "# Load Sentiment Data\n",
    "# ------------------------\n",
    "\n",
    "sentiment_path = \"E:/Tenx/Week 1/Data/cleaned.csv\"\n",
    "sentiment_df = pd.read_csv(sentiment_path)\n",
    "sentiment_df['date'].isna().sum()"
   ]
  },
  {
   "cell_type": "code",
   "execution_count": 81,
   "id": "b83b8ba7",
   "metadata": {},
   "outputs": [],
   "source": [
    "\n",
    "# Parse date\n",
    "# sentiment_df[\"date\"] = pd.to_datetime(sentiment_df[\"date\"]).dt.date\n",
    "\n",
    "# Average daily sentiment per stock\n",
    "daily_sentiment = (\n",
    "    sentiment_df.groupby([\"stock\", \"date\"])[\"sentiment\"]\n",
    "    .mean()\n",
    "    .reset_index()\n",
    "    .rename(columns={\"sentiment\": \"avg_sentiment\"})\n",
    ")\n"
   ]
  },
  {
   "cell_type": "code",
   "execution_count": 94,
   "id": "523923d0",
   "metadata": {},
   "outputs": [
    {
     "name": "stdout",
     "output_type": "stream",
     "text": [
      "Parsed: 10998 rows out of 10998\n"
     ]
    }
   ],
   "source": [
    "from datetime import datetime\n",
    "\n",
    "# ------------------------\n",
    "# Load Stock Price Data (Example: AAPL)\n",
    "# ------------------------\n",
    "\n",
    "stock_df = pd.read_csv(\"../data/yfinance_data/AAPL_historical_data.csv\")\n",
    "stock_df[\"Date\"] = stock_df[\"Date\"].astype(str).str.strip()\n",
    "\n",
    "# Define a function that tries multiple formats\n",
    "\n",
    "from datetime import datetime\n",
    "\n",
    "def try_parse_date(val):\n",
    "    for fmt in (\"%Y-%m-%d\", \"%Y-%m-%d %H:%M:%S%z\", \"%m/%d/%Y %H:%M\", \"%m/%d/%Y\"):\n",
    "        try:\n",
    "            return datetime.strptime(val, fmt)\n",
    "        except (ValueError, TypeError):\n",
    "            continue\n",
    "    return pd.NaT\n",
    "\n",
    "stock_df[\"date_parced\"] = stock_df[\"Date\"].astype(str).str.strip().apply(try_parse_date)\n",
    "\n",
    "\n",
    "# Check results\n",
    "print(\"Parsed:\", stock_df[\"date_parced\"].notna().sum(), \"rows out of\", len(stock_df))\n"
   ]
  },
  {
   "cell_type": "code",
   "execution_count": null,
   "id": "3693f9d6",
   "metadata": {},
   "outputs": [],
   "source": []
  },
  {
   "cell_type": "code",
   "execution_count": 98,
   "id": "801a9097",
   "metadata": {},
   "outputs": [],
   "source": [
    "\n",
    "\n",
    "# compute daily return\n",
    "stock_df[\"stock\"] = \"AAPL\"  # Add ticker symbol for merging\n",
    "stock_df[\"daily_return\"] = stock_df[\"Close\"].pct_change()\n",
    "\n",
    "# Drop first row with NaN return\n",
    "stock_df = stock_df.dropna(subset=[\"daily_return\"])"
   ]
  },
  {
   "cell_type": "code",
   "execution_count": 101,
   "id": "6bd6ba18",
   "metadata": {},
   "outputs": [],
   "source": [
    "# Convert to datetime format first\n",
    "sentiment_df[\"date_parced\"] = pd.to_datetime(\n",
    "    sentiment_df[\"date_parced\"], errors=\"coerce\"\n",
    ")\n",
    "\n",
    "# Now extract only the date part\n",
    "sentiment_df[\"date_parced\"] = sentiment_df[\"date_parced\"].dt.date\n"
   ]
  },
  {
   "cell_type": "code",
   "execution_count": 102,
   "id": "1d8862dc",
   "metadata": {},
   "outputs": [
    {
     "name": "stderr",
     "output_type": "stream",
     "text": [
      "C:\\Users\\betsi\\AppData\\Local\\Temp\\ipykernel_17536\\456871716.py:1: SettingWithCopyWarning: \n",
      "A value is trying to be set on a copy of a slice from a DataFrame.\n",
      "Try using .loc[row_indexer,col_indexer] = value instead\n",
      "\n",
      "See the caveats in the documentation: https://pandas.pydata.org/pandas-docs/stable/user_guide/indexing.html#returning-a-view-versus-a-copy\n",
      "  stock_df[\"date_parced\"] = pd.to_datetime(\n",
      "C:\\Users\\betsi\\AppData\\Local\\Temp\\ipykernel_17536\\456871716.py:4: SettingWithCopyWarning: \n",
      "A value is trying to be set on a copy of a slice from a DataFrame.\n",
      "Try using .loc[row_indexer,col_indexer] = value instead\n",
      "\n",
      "See the caveats in the documentation: https://pandas.pydata.org/pandas-docs/stable/user_guide/indexing.html#returning-a-view-versus-a-copy\n",
      "  stock_df[\"date_parced\"] = stock_df[\"date_parced\"].dt.date\n"
     ]
    }
   ],
   "source": [
    "stock_df[\"date_parced\"] = pd.to_datetime(\n",
    "    stock_df[\"date_parced\"], errors=\"coerce\"\n",
    ")\n",
    "stock_df[\"date_parced\"] = stock_df[\"date_parced\"].dt.date\n"
   ]
  },
  {
   "cell_type": "code",
   "execution_count": 103,
   "id": "61fa9c57",
   "metadata": {},
   "outputs": [
    {
     "name": "stdout",
     "output_type": "stream",
     "text": [
      "0    2020-06-05\n",
      "1    2020-06-03\n",
      "2    2020-05-26\n",
      "3    2020-05-22\n",
      "4    2020-05-22\n",
      "Name: date_parced, dtype: object\n",
      "object\n"
     ]
    }
   ],
   "source": [
    "print(sentiment_df[\"date_parced\"].head())\n",
    "print(sentiment_df[\"date_parced\"].dtype)\n"
   ]
  },
  {
   "cell_type": "code",
   "execution_count": 104,
   "id": "e691d79f",
   "metadata": {},
   "outputs": [
    {
     "data": {
      "text/plain": [
       "(np.int64(0), np.int64(1407328))"
      ]
     },
     "execution_count": 104,
     "metadata": {},
     "output_type": "execute_result"
    }
   ],
   "source": [
    "sentiment_df['date'].isna().sum(), sentiment_df['date'].notna().sum()\n"
   ]
  },
  {
   "cell_type": "code",
   "execution_count": 110,
   "id": "3708b141",
   "metadata": {},
   "outputs": [],
   "source": [
    "# Example: Daily average sentiment per stock\n",
    "daily_sentiment = sentiment_df.groupby([\"stock\", \"date_parced\"])[\"sentiment\"].mean().reset_index()\n",
    "daily_sentiment.rename(columns={\"sentiment\": \"avg_sentiment\"}, inplace=True)\n",
    "\n",
    "# Merge with stock data\n",
    "merged_df = pd.merge(\n",
    "    stock_df,\n",
    "    daily_sentiment,\n",
    "    left_on=[\"stock\", \"date_parced\"],\n",
    "    right_on=[\"stock\", \"date_parced\"],\n",
    "    how=\"inner\"\n",
    ")\n"
   ]
  },
  {
   "cell_type": "code",
   "execution_count": 111,
   "id": "a4ed88e6",
   "metadata": {},
   "outputs": [
    {
     "name": "stdout",
     "output_type": "stream",
     "text": [
      "Missing in avg_sentiment: 0\n",
      "Missing in daily_return: 0\n"
     ]
    }
   ],
   "source": [
    "print(\"Missing in avg_sentiment:\", merged_df[\"avg_sentiment\"].isna().sum())\n",
    "print(\"Missing in daily_return:\", merged_df[\"daily_return\"].isna().sum())\n"
   ]
  },
  {
   "cell_type": "code",
   "execution_count": 112,
   "id": "2f63dfe7",
   "metadata": {},
   "outputs": [
    {
     "name": "stdout",
     "output_type": "stream",
     "text": [
      "Correlation Results:\n",
      "Pearson: 0.1589 (p=0.2213)\n",
      "Spearman: 0.1826 (p=0.1590)\n",
      "Kendall: 0.1252 (p=0.1541)\n"
     ]
    }
   ],
   "source": [
    "# ------------------------\n",
    "# Correlation Analysis\n",
    "# ------------------------\n",
    "\n",
    "# Pearson\n",
    "pearson_corr, pearson_p = pearsonr(\n",
    "    merged_df[\"avg_sentiment\"], merged_df[\"daily_return\"]\n",
    ")\n",
    "\n",
    "# Spearman\n",
    "spearman_corr, spearman_p = spearmanr(\n",
    "    merged_df[\"avg_sentiment\"], merged_df[\"daily_return\"]\n",
    ")\n",
    "\n",
    "# Kendall\n",
    "kendall_corr, kendall_p = kendalltau(\n",
    "    merged_df[\"avg_sentiment\"], merged_df[\"daily_return\"]\n",
    ")\n",
    "\n",
    "print(\"Correlation Results:\")\n",
    "print(f\"Pearson: {pearson_corr:.4f} (p={pearson_p:.4f})\")\n",
    "print(f\"Spearman: {spearman_corr:.4f} (p={spearman_p:.4f})\")\n",
    "print(f\"Kendall: {kendall_corr:.4f} (p={kendall_p:.4f})\")\n"
   ]
  },
  {
   "cell_type": "code",
   "execution_count": 113,
   "id": "1a070b7d",
   "metadata": {},
   "outputs": [
    {
     "data": {
      "image/png": "[encoded data removed]",
      "text/plain": [
       "<Figure size 800x500 with 1 Axes>"
      ]
     },
     "metadata": {},
     "output_type": "display_data"
    }
   ],
   "source": [
    "# ------------------------\n",
    "# Scatter Plot\n",
    "# ------------------------\n",
    "\n",
    "plt.figure(figsize=(8, 5))\n",
    "sns.scatterplot(data=merged_df, x=\"avg_sentiment\", y=\"daily_return\", alpha=0.6)\n",
    "plt.title(\"Sentiment vs. Daily Stock Return (AAPL)\")\n",
    "plt.xlabel(\"Average Daily Sentiment\")\n",
    "plt.ylabel(\"Daily Return (%)\")\n",
    "plt.grid(True)\n",
    "plt.tight_layout()\n",
    "plt.show()\n"
   ]
  }
 ],
 "metadata": {
  "kernelspec": {
   "display_name": ".venv",
   "language": "python",
   "name": "python3"
  },
  "language_info": {
   "codemirror_mode": {
    "name": "ipython",
    "version": 3
   },
   "file_extension": ".py",
   "mimetype": "text/x-python",
   "name": "python",
   "nbconvert_exporter": "python",
   "pygments_lexer": "ipython3",
   "version": "3.13.3"
  }
 },
 "nbformat": 4,
 "nbformat_minor": 5
}
